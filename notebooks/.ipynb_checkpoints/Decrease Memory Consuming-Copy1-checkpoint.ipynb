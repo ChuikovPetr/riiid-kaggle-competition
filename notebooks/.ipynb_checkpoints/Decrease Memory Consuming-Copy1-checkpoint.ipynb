{
 "cells": [
  {
   "cell_type": "code",
   "execution_count": 2,
   "metadata": {},
   "outputs": [],
   "source": [
    "import pandas as pd\n",
    "import logging\n",
    "import numpy as np\n",
    "\n",
    "logging.basicConfig(\n",
    "    level=logging.DEBUG,\n",
    "    format=\"%(asctime)s :: %(filename)s :: %(funcName)s :: %(message)s\",\n",
    ")"
   ]
  },
  {
   "cell_type": "code",
   "execution_count": 3,
   "metadata": {},
   "outputs": [],
   "source": [
    "features = pd.read_csv('../data/all_features_ns_full_25/features.csv')"
   ]
  },
  {
   "cell_type": "code",
   "execution_count": 4,
   "metadata": {},
   "outputs": [
    {
     "data": {
      "text/plain": [
       "(Index(['mul_user_content_ema_answ', 'rel_chng_timestamp_1',\n",
       "        'user_ema_answered_correctly', 'lect_user_part',\n",
       "        'user_mean_answered_correctly', 'abs_chng_timestamp_3',\n",
       "        'part_bundle_id', 'abs_chng_timestamp_2',\n",
       "        'user_he_mean_answered_correctly', 'rel_strike_part', 'strike_bundle',\n",
       "        'rel_user_he_mean_answ', 'user_sum_answered_correctly',\n",
       "        'attempt_no_mean', 'rel_user_he_ema_pqet', 'strike', 'attempt_no_count',\n",
       "        'user_he_ucount_part', 'user_count_answered_correctly',\n",
       "        'prior_question_elapsed_time', 'id', 'abs_chng_timestamp_1',\n",
       "        'lect_user', 'user_he_mean_prior_question_elapsed_time',\n",
       "        'content_sum_answered_correctly',\n",
       "        'user_ema_prior_question_elapsed_time',\n",
       "        'user_he_ema_answered_correctly', 'content_he_mean_answered_correctly',\n",
       "        'trend_user_he_mean_answ', 'rel_user_content_he_mean_answ',\n",
       "        'lag_expl_and_part_bool', 'user_ucount_part',\n",
       "        'user_he_ema_prior_question_elapsed_time', 'rel_lect_part',\n",
       "        'strike_part', 'content_he_part_count_answered_correctly',\n",
       "        'content_mean_answered_correctly'],\n",
       "       dtype='object'),\n",
       " (99271300, 37))"
      ]
     },
     "execution_count": 4,
     "metadata": {},
     "output_type": "execute_result"
    }
   ],
   "source": [
    "features.columns, features.shape"
   ]
  },
  {
   "cell_type": "code",
   "execution_count": 5,
   "metadata": {},
   "outputs": [],
   "source": [
    "variables = [\n",
    "    \"content_he_mean_answered_correctly\",\n",
    "    \"mul_user_content_ema_answ\",\n",
    "    \"abs_chng_timestamp_1\",\n",
    "    \"attempt_no_count\",\n",
    "    \"abs_chng_timestamp_2\",\n",
    "    \"user_sum_answered_correctly\",\n",
    "    \"part_bundle_id\",\n",
    "    \"strike\",\n",
    "    \"prior_question_elapsed_time\",\n",
    "    \"attempt_no_mean\",\n",
    "    \"user_he_mean_prior_question_elapsed_time\",\n",
    "    \"rel_user_he_mean_answ\",\n",
    "    \"content_he_part_count_answered_correctly\",\n",
    "    \"content_sum_answered_correctly\",\n",
    "    \"abs_chng_timestamp_3\",\n",
    "    \"lag_expl_and_part_bool\",\n",
    "    \"rel_user_content_he_mean_answ\",\n",
    "    \"user_he_ucount_part\",\n",
    "    \"trend_user_he_mean_answ\",\n",
    "    \"strike_bundle\",\n",
    "    \"rel_chng_timestamp_1\",\n",
    "    \"rel_lect_part\",\n",
    "    \"rel_user_he_ema_pqet\",\n",
    "    \"user_ucount_part\",\n",
    "    \"rel_strike_part\",\n",
    "]\n",
    "features = features[['id'] + variables]"
   ]
  },
  {
   "cell_type": "code",
   "execution_count": 6,
   "metadata": {
    "scrolled": true
   },
   "outputs": [
    {
     "data": {
      "text/plain": [
       "(Index(['id', 'content_he_mean_answered_correctly', 'mul_user_content_ema_answ',\n",
       "        'abs_chng_timestamp_1', 'attempt_no_count', 'abs_chng_timestamp_2',\n",
       "        'user_sum_answered_correctly', 'part_bundle_id', 'strike',\n",
       "        'prior_question_elapsed_time', 'attempt_no_mean',\n",
       "        'user_he_mean_prior_question_elapsed_time', 'rel_user_he_mean_answ',\n",
       "        'content_he_part_count_answered_correctly',\n",
       "        'content_sum_answered_correctly', 'abs_chng_timestamp_3',\n",
       "        'lag_expl_and_part_bool', 'rel_user_content_he_mean_answ',\n",
       "        'user_he_ucount_part', 'trend_user_he_mean_answ', 'strike_bundle',\n",
       "        'rel_chng_timestamp_1', 'rel_lect_part', 'rel_user_he_ema_pqet',\n",
       "        'user_ucount_part', 'rel_strike_part'],\n",
       "       dtype='object'),\n",
       " (99271300, 26))"
      ]
     },
     "execution_count": 6,
     "metadata": {},
     "output_type": "execute_result"
    }
   ],
   "source": [
    "features.columns, features.shape"
   ]
  },
  {
   "cell_type": "code",
   "execution_count": 7,
   "metadata": {},
   "outputs": [],
   "source": [
    "cols = list(features.columns)\n",
    "int_list = [\n",
    "    \"id\",\n",
    "    \"attempt_no_count\",\n",
    "    \"user_sum_answered_correctly\",\n",
    "    \"part_bundle_id\",\n",
    "    \"strike\",\n",
    "    \"content_he_part_count_answered_correctly\",\n",
    "    \"content_sum_answered_correctly\",\n",
    "    \"lag_expl_and_part_bool\",\n",
    "    \"user_he_ucount_part\",\n",
    "    \"strike_bundle\",\n",
    "    \"user_ucount_part\",\n",
    "]\n",
    "\n",
    "float_list = list(set(cols) - set(int_list))\n",
    "\n",
    "features[int_list] = features[int_list].astype('int32')\n",
    "features[float_list] = features[float_list].astype('float32')"
   ]
  },
  {
   "cell_type": "code",
   "execution_count": 8,
   "metadata": {
    "scrolled": true
   },
   "outputs": [
    {
     "name": "stdout",
     "output_type": "stream",
     "text": [
      "<class 'pandas.core.frame.DataFrame'>\n",
      "RangeIndex: 99271300 entries, 0 to 99271299\n",
      "Data columns (total 26 columns):\n",
      " #   Column                                    Dtype  \n",
      "---  ------                                    -----  \n",
      " 0   id                                        int32  \n",
      " 1   content_he_mean_answered_correctly        float32\n",
      " 2   mul_user_content_ema_answ                 float32\n",
      " 3   abs_chng_timestamp_1                      float32\n",
      " 4   attempt_no_count                          int32  \n",
      " 5   abs_chng_timestamp_2                      float32\n",
      " 6   user_sum_answered_correctly               int32  \n",
      " 7   part_bundle_id                            int32  \n",
      " 8   strike                                    int32  \n",
      " 9   prior_question_elapsed_time               float32\n",
      " 10  attempt_no_mean                           float32\n",
      " 11  user_he_mean_prior_question_elapsed_time  float32\n",
      " 12  rel_user_he_mean_answ                     float32\n",
      " 13  content_he_part_count_answered_correctly  int32  \n",
      " 14  content_sum_answered_correctly            int32  \n",
      " 15  abs_chng_timestamp_3                      float32\n",
      " 16  lag_expl_and_part_bool                    int32  \n",
      " 17  rel_user_content_he_mean_answ             float32\n",
      " 18  user_he_ucount_part                       int32  \n",
      " 19  trend_user_he_mean_answ                   float32\n",
      " 20  strike_bundle                             int32  \n",
      " 21  rel_chng_timestamp_1                      float32\n",
      " 22  rel_lect_part                             float32\n",
      " 23  rel_user_he_ema_pqet                      float32\n",
      " 24  user_ucount_part                          int32  \n",
      " 25  rel_strike_part                           float32\n",
      "dtypes: float32(15), int32(11)\n",
      "memory usage: 9.6 GB\n"
     ]
    }
   ],
   "source": [
    "features.info()"
   ]
  },
  {
   "cell_type": "code",
   "execution_count": 9,
   "metadata": {},
   "outputs": [],
   "source": [
    "features.to_csv('../data/all_features_ns_full_25/features_m.csv', index = False)"
   ]
  },
  {
   "cell_type": "code",
   "execution_count": 10,
   "metadata": {},
   "outputs": [],
   "source": [
    "del features"
   ]
  },
  {
   "cell_type": "markdown",
   "metadata": {},
   "source": [
    "# Preparing for atempt agg"
   ]
  },
  {
   "cell_type": "code",
   "execution_count": 2,
   "metadata": {},
   "outputs": [],
   "source": [
    "features = pd.read_csv('../data/all_features_ns_full/features_m.csv')"
   ]
  },
  {
   "cell_type": "code",
   "execution_count": 3,
   "metadata": {},
   "outputs": [],
   "source": [
    "features['attempt_no_mean'] = np.where(\n",
    "    features['attempt_no_count'] > 1, features['attempt_no_mean'], 0)\n",
    "features['attempt_no_count'] = np.where(\n",
    "    features['attempt_no_count'] > 1, features['attempt_no_count'], 0)"
   ]
  },
  {
   "cell_type": "code",
   "execution_count": 4,
   "metadata": {},
   "outputs": [],
   "source": [
    "features.to_csv('../data/all_features_ns_full/features_m_2.csv', index = False)"
   ]
  },
  {
   "cell_type": "markdown",
   "metadata": {},
   "source": [
    "# Add shadow"
   ]
  },
  {
   "cell_type": "code",
   "execution_count": 12,
   "metadata": {},
   "outputs": [
    {
     "name": "stderr",
     "output_type": "stream",
     "text": [
      "2020-12-14 11:24:15,505 :: <ipython-input-12-f138e99c8d51> :: <module> :: Load features_old - complete\n",
      "2020-12-14 11:28:37,754 :: <ipython-input-12-f138e99c8d51> :: <module> :: Load features_rev - complete\n",
      "2020-12-14 12:38:11,616 :: <ipython-input-12-f138e99c8d51> :: <module> :: Create features - complete\n"
     ]
    }
   ],
   "source": [
    "features_old = pd.read_csv(\"../data/full_dataset/features_m.csv\")\n",
    "logging.info(\"Load features_old - complete\")\n",
    "features_rev = pd.read_csv(\"../data/full_dataset_rev/features_m.csv\")\n",
    "logging.info(\"Load features_rev - complete\")\n",
    "\n",
    "max_id_old = features_old.id.max()\n",
    "features_rev.id = features_rev.id + max_id_old\n",
    "features = pd.concat([features_old, features_rev], axis=0).reset_index(drop=True)\n",
    "del features_old\n",
    "del features_rev\n",
    "logging.info(\"Create features - complete\")\n",
    "features.to_csv(\n",
    "    f\"../data/full_dataset_rev/rev_and_no_rev_features.csv\", index=False\n",
    ")\n",
    "del features"
   ]
  },
  {
   "cell_type": "code",
   "execution_count": 13,
   "metadata": {},
   "outputs": [
    {
     "name": "stderr",
     "output_type": "stream",
     "text": [
      "2020-12-14 13:26:33,721 :: <ipython-input-13-2f3ac13ffdc8> :: <module> :: Create new_X.csv - complete\n",
      "2020-12-14 13:28:40,076 :: <ipython-input-13-2f3ac13ffdc8> :: <module> :: Create new_train_val.csv - complete\n",
      "2020-12-14 13:29:14,585 :: <ipython-input-13-2f3ac13ffdc8> :: <module> :: Create new_val.csv - complete\n"
     ]
    }
   ],
   "source": [
    "for path in [\"X.csv\", \"train_val.csv\", \"val.csv\"]:\n",
    "    df = pd.read_csv(f\"../data/full_dataset_rev/{path}\")\n",
    "    df_2 = df.copy()\n",
    "    df_2.id = df_2.id + max_id_old\n",
    "    df = pd.concat([df, df_2], axis=0).reset_index(drop=True)\n",
    "    del df_2\n",
    "    logging.info(f\"Create new_{path} - complete\")\n",
    "    df.to_csv(f\"../data/full_dataset_rev/new_{path}\", index=False)\n",
    "    del df"
   ]
  },
  {
   "cell_type": "code",
   "execution_count": null,
   "metadata": {},
   "outputs": [],
   "source": []
  }
 ],
 "metadata": {
  "kernelspec": {
   "display_name": "Python 3",
   "language": "python",
   "name": "python3"
  },
  "language_info": {
   "codemirror_mode": {
    "name": "ipython",
    "version": 3
   },
   "file_extension": ".py",
   "mimetype": "text/x-python",
   "name": "python",
   "nbconvert_exporter": "python",
   "pygments_lexer": "ipython3",
   "version": "3.8.5"
  }
 },
 "nbformat": 4,
 "nbformat_minor": 4
}
