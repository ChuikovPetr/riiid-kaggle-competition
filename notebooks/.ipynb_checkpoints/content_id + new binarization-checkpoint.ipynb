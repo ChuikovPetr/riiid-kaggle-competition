{
 "cells": [
  {
   "cell_type": "code",
   "execution_count": 3,
   "metadata": {},
   "outputs": [
    {
     "name": "stdout",
     "output_type": "stream",
     "text": [
      "The autoreload extension is already loaded. To reload it, use:\n",
      "  %reload_ext autoreload\n"
     ]
    }
   ],
   "source": [
    "%load_ext autoreload\n",
    "%autoreload 2\n",
    "\n",
    "\n",
    "\n",
    "import pandas as pd\n",
    "import numpy as np\n",
    "from pathlib import Path\n",
    "import logging\n",
    "\n",
    "logging.basicConfig(level=logging.DEBUG, format='%(asctime)s :: %(funcName)s :: %(message)s')\n",
    "\n",
    "pd.set_option('display.max_rows', 20000)\n",
    "\n",
    "from ccf.preprocess import get_bins"
   ]
  },
  {
   "cell_type": "code",
   "execution_count": 8,
   "metadata": {},
   "outputs": [],
   "source": [
    "def merge_cats_due_to_quantity(\n",
    "    features_path: Path,\n",
    "    field_name: str,\n",
    "    min_count_in_cat: int\n",
    ") -> pd.DataFrame:\n",
    "    features = pd.read_csv(features_path)\n",
    "    logging.debug(\"0. Features load - complete.\")\n",
    "    \n",
    "    features = features.astype({field_name: 'int32'})\n",
    "    counts_df = features[field_name].value_counts().to_frame()\n",
    "    cats_for_merging = np.array(counts_df.loc[counts_df[field_name] < min_count_in_cat].index)\n",
    "    logging.debug(\"1. Create cats_for_merging - complete.\")\n",
    "    \n",
    "    fields_value = np.array(features[field_name])\n",
    "    features[field_name] = list(np.where(\n",
    "        np.isin(fields_value, cats_for_merging), \n",
    "        -1, \n",
    "        fields_value\n",
    "    ))\n",
    "    logging.debug(\"2. Convert cats - complete.\")\n",
    "    return features"
   ]
  },
  {
   "cell_type": "code",
   "execution_count": 9,
   "metadata": {},
   "outputs": [
    {
     "name": "stderr",
     "output_type": "stream",
     "text": [
      "2020-12-05 12:26:53,725 :: merge_cats_due_to_quantity :: 0. Features load - complete.\n",
      "2020-12-05 12:26:55,835 :: merge_cats_due_to_quantity :: 1. Create cats_for_merging - complete.\n",
      "2020-12-05 12:26:56,825 :: merge_cats_due_to_quantity :: 2. Convert cats - complete.\n"
     ]
    }
   ],
   "source": [
    "features_2 = merge_cats_due_to_quantity(\n",
    "    features_path = Path('../data/full_no_tail/features.csv'),\n",
    "    field_name = 'content_id',\n",
    "    min_count_in_cat = 3_000\n",
    ")"
   ]
  },
  {
   "cell_type": "code",
   "execution_count": 10,
   "metadata": {},
   "outputs": [
    {
     "data": {
      "text/plain": [
       "(2500000, 108)"
      ]
     },
     "execution_count": 10,
     "metadata": {},
     "output_type": "execute_result"
    }
   ],
   "source": [
    "features_2.shape"
   ]
  },
  {
   "cell_type": "code",
   "execution_count": 11,
   "metadata": {},
   "outputs": [],
   "source": [
    "features_2.to_csv(Path('../data/full_no_tail/features_contid.csv'), index = False)"
   ]
  },
  {
   "cell_type": "code",
   "execution_count": 12,
   "metadata": {},
   "outputs": [],
   "source": [
    "del features_2"
   ]
  },
  {
   "cell_type": "markdown",
   "metadata": {},
   "source": [
    "# New binarization"
   ]
  },
  {
   "cell_type": "code",
   "execution_count": 69,
   "metadata": {},
   "outputs": [],
   "source": [
    "X = pd.read_csv('../data/base/X.csv')"
   ]
  },
  {
   "cell_type": "code",
   "execution_count": 70,
   "metadata": {},
   "outputs": [],
   "source": [
    "data = pd.merge(\n",
    "    X,\n",
    "    features_2,\n",
    "    left_on = ['id'],\n",
    "    right_on = ['id'],\n",
    "    how = 'left'\n",
    ")"
   ]
  },
  {
   "cell_type": "code",
   "execution_count": 71,
   "metadata": {},
   "outputs": [],
   "source": [
    "dict_ = get_bins(\n",
    "    name = 'content_id',\n",
    "    data = data[['content_id', 'target']],\n",
    "    list_label = list(data['target']),\n",
    "    min_weight_fraction_leaf = 0.0,\n",
    "    min_samples_leaf = 2,\n",
    "    min_samples_split = 2,\n",
    "    max_depth = None,\n",
    ")"
   ]
  },
  {
   "cell_type": "code",
   "execution_count": 72,
   "metadata": {},
   "outputs": [
    {
     "data": {
      "text/plain": [
       "{1.5: 0.62,\n",
       " 25.5: 0.5,\n",
       " 110.0: 1.0,\n",
       " 180.0: 0.33,\n",
       " 193.0: 1.0,\n",
       " 210.5: 0.5,\n",
       " 217.5: 0.71,\n",
       " 223.5: 0.0,\n",
       " 238.5: 0.5,\n",
       " 247.5: 0.5,\n",
       " 281.5: 0.75,\n",
       " 292.5: 0.5,\n",
       " 295.0: 1.0,\n",
       " 303.5: 0.67,\n",
       " 314.5: 1.0,\n",
       " 349.0: 0.33,\n",
       " 373.5: 1.0,\n",
       " 377.5: 0.6,\n",
       " 412.5: 1.0,\n",
       " 444.5: 0.0,\n",
       " 455.0: 0.5,\n",
       " 473.0: 1.0,\n",
       " 502.0: 0.25,\n",
       " 523.5: 1.0,\n",
       " 579.0: 0.33,\n",
       " 584.5: 1.0,\n",
       " 590.0: 0.25,\n",
       " 615.5: 0.5,\n",
       " 646.0: 0.5,\n",
       " 662.5: 0.33,\n",
       " 683.0: 0.0,\n",
       " 735.0: 1.0,\n",
       " 759.0: 0.5,\n",
       " 829.0: 1.0,\n",
       " 844.5: 0.5,\n",
       " 870.5: 0.5,\n",
       " 993.0: 1.0,\n",
       " 995.0: 0.5,\n",
       " 999.0: 1.0,\n",
       " 1015.5: 0.0,\n",
       " 1032.0: 0.5,\n",
       " 1059.0: 1.0,\n",
       " 1084.0: 0.0,\n",
       " 1111.5: 1.0,\n",
       " 1113.0: 0.0,\n",
       " 1137.5: 0.75,\n",
       " 1179.0: 0.5,\n",
       " 1191.5: 1.0,\n",
       " 1202.0: 0.67,\n",
       " 1260.5: 0.0,\n",
       " 1272.5: 0.5,\n",
       " 1280.5: 1.0,\n",
       " 1286.5: 0.5,\n",
       " 1305.5: 1.0,\n",
       " 1337.0: 0.5,\n",
       " 1650.5: 0.67,\n",
       " 2063.5: 0.0,\n",
       " 2329.0: 1.0,\n",
       " 2593.5: 0.47,\n",
       " 2594.5: 0.13,\n",
       " 2770.5: 0.53,\n",
       " 2946.5: 0.0,\n",
       " 2947.5: 0.21,\n",
       " 3174.5: 0.31,\n",
       " 3269.5: 0.5,\n",
       " 3363.5: 0.2,\n",
       " 3364.5: 0.69,\n",
       " 3474.5: 0.29,\n",
       " 3596.5: 0.0,\n",
       " 3634.0: 1.0,\n",
       " 3638.0: 0.0,\n",
       " 3662.5: 0.5,\n",
       " 3746.0: 1.0,\n",
       " 3933.0: 0.0,\n",
       " 4003.5: 1.0,\n",
       " 4043.0: 0.0,\n",
       " 4083.5: 0.5,\n",
       " 4104.0: 0.0,\n",
       " 4112.5: 0.5,\n",
       " 4118.5: 0.5,\n",
       " 4128.5: 0.26,\n",
       " 4185.0: 1.0,\n",
       " 4197.0: 0.5,\n",
       " 4244.0: 0.67,\n",
       " 4294.0: 0.0,\n",
       " 4374.0: 0.5,\n",
       " 4413.5: 1.0,\n",
       " 4422.0: 0.5,\n",
       " 4452.0: 1.0,\n",
       " 4478.5: 0.33,\n",
       " 4481.5: 0.5,\n",
       " 4491.0: 0.0,\n",
       " 4494.0: 0.5,\n",
       " 4496.5: 1.0,\n",
       " 4550.0: 0.0,\n",
       " 4692.5: 1.0,\n",
       " 4712.5: 0.39,\n",
       " 4786.5: 0.67,\n",
       " 4842.0: 1.0,\n",
       " 4927.5: 0.0,\n",
       " 4981.5: 1.0,\n",
       " 4986.0: 0.5,\n",
       " 5010.0: 0.0,\n",
       " 5168.5: 1.0,\n",
       " 5182.5: 0.0,\n",
       " 5218.5: 0.5,\n",
       " 5273.0: 0.33,\n",
       " 5307.5: 0.5,\n",
       " 5323.5: 1.0,\n",
       " 5344.5: 0.0,\n",
       " 5368.5: 0.33,\n",
       " 5573.0: 1.0,\n",
       " 5594.5: 0.33,\n",
       " 5618.5: 0.67,\n",
       " 5645.5: 0.33,\n",
       " 5675.5: 1.0,\n",
       " 5694.0: 0.5,\n",
       " 5835.5: 1.0,\n",
       " 6019.0: 0.33,\n",
       " 6071.5: 1.0,\n",
       " 6075.5: 0.5,\n",
       " 6115.5: 1.0,\n",
       " 6116.5: 0.15,\n",
       " 6136.0: 0.5,\n",
       " 6164.0: 0.0,\n",
       " 6179.0: 0.24,\n",
       " 6221.0: 1.0,\n",
       " 6287.5: 0.5,\n",
       " 6369.5: 0.67,\n",
       " 6372.0: 0.2,\n",
       " 6450.5: 0.0,\n",
       " 6665.0: 0.67,\n",
       " 6877.5: 0.0,\n",
       " 6878.5: 0.25,\n",
       " 6879.5: 0.33,\n",
       " 6908.5: 0.0,\n",
       " 6909.5: 1.0,\n",
       " 6910.5: 0.5,\n",
       " 7063.5: 0.5,\n",
       " 7216.5: 0.0,\n",
       " 7217.5: 0.2,\n",
       " 7218.5: 0.4,\n",
       " 7536.5: 0.4,\n",
       " 7856.5: 1.0,\n",
       " 7867.5: 0.5,\n",
       " 7888.0: 1.0,\n",
       " 7924.0: 0.75,\n",
       " 7944.5: 0.5,\n",
       " 8156.5: 1.0,\n",
       " 8451.0: 0.5,\n",
       " 8785.0: 0.33,\n",
       " 8971.0: 1.0,\n",
       " 9182.5: 0.0,\n",
       " 9476.0: 0.5,\n",
       " 10055.5: 0.25,\n",
       " 10551.0: 1.0,\n",
       " 10684.5: 0.5,\n",
       " 10685.5: 0.25,\n",
       " 10686.5: 0.17,\n",
       " 9223372036854775807: 0.75,\n",
       " 'missing': 0}"
      ]
     },
     "execution_count": 72,
     "metadata": {},
     "output_type": "execute_result"
    }
   ],
   "source": [
    "dict_[1]"
   ]
  }
 ],
 "metadata": {
  "kernelspec": {
   "display_name": "Python 3",
   "language": "python",
   "name": "python3"
  },
  "language_info": {
   "codemirror_mode": {
    "name": "ipython",
    "version": 3
   },
   "file_extension": ".py",
   "mimetype": "text/x-python",
   "name": "python",
   "nbconvert_exporter": "python",
   "pygments_lexer": "ipython3",
   "version": "3.8.5"
  }
 },
 "nbformat": 4,
 "nbformat_minor": 4
}
