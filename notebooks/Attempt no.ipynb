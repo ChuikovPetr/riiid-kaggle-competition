{
 "cells": [
  {
   "cell_type": "code",
   "execution_count": 1,
   "metadata": {},
   "outputs": [],
   "source": [
    "import pandas as pd\n",
    "from pathlib import Path\n",
    "from typing import List, Dict, Tuple\n",
    "import numpy as np\n",
    "pd.options.display.float_format = '{:.5f}'.format\n",
    "\n",
    "import pickle\n",
    "def load_obj(name):\n",
    "    with open(\"../data/prod/\" + name + \".pkl\", \"rb\") as f:\n",
    "        return pickle.load(f)\n",
    "    \n",
    "def save_obj(obj, name):\n",
    "    with open(\"../data/prod/\" + name + \".pkl\", \"wb\") as f:\n",
    "        pickle.dump(obj, f, protocol = 2)"
   ]
  },
  {
   "cell_type": "code",
   "execution_count": 2,
   "metadata": {},
   "outputs": [],
   "source": [
    "attempt_no_dict = load_obj('attempt_no_dict')"
   ]
  },
  {
   "cell_type": "code",
   "execution_count": 3,
   "metadata": {},
   "outputs": [
    {
     "data": {
      "text/plain": [
       "393656"
      ]
     },
     "execution_count": 3,
     "metadata": {},
     "output_type": "execute_result"
    }
   ],
   "source": [
    "len(attempt_no_dict)"
   ]
  },
  {
   "cell_type": "code",
   "execution_count": 4,
   "metadata": {},
   "outputs": [],
   "source": [
    "for user_id, value in attempt_no_dict.items():\n",
    "    for content_id, dict_ in value.items():\n",
    "        attempt_no_dict[user_id][content_id] = dict_['combined']"
   ]
  },
  {
   "cell_type": "code",
   "execution_count": 5,
   "metadata": {},
   "outputs": [],
   "source": [
    "save_obj(attempt_no_dict, 'attempt_no_dict_m')"
   ]
  },
  {
   "cell_type": "markdown",
   "metadata": {},
   "source": [
    "# (key_1, key_2)"
   ]
  },
  {
   "cell_type": "code",
   "execution_count": 2,
   "metadata": {},
   "outputs": [
    {
     "data": {
      "text/plain": [
       "393656"
      ]
     },
     "execution_count": 2,
     "metadata": {},
     "output_type": "execute_result"
    }
   ],
   "source": [
    "attempt_no_dict = load_obj('attempt_no_dict_m')\n",
    "len(attempt_no_dict)"
   ]
  },
  {
   "cell_type": "code",
   "execution_count": 4,
   "metadata": {},
   "outputs": [],
   "source": [
    "attempt_no_dict_2 = dict()\n",
    "\n",
    "for user_id, value in attempt_no_dict.items():\n",
    "    for content_id, list_ in value.items():\n",
    "        attempt_no_dict_2[(user_id, content_id)] = list_"
   ]
  },
  {
   "cell_type": "code",
   "execution_count": 5,
   "metadata": {},
   "outputs": [],
   "source": [
    "save_obj(attempt_no_dict_2, 'attempt_no_dict_mk')"
   ]
  },
  {
   "cell_type": "code",
   "execution_count": null,
   "metadata": {},
   "outputs": [],
   "source": [
    "attempt_no_dict = load_obj('attempt_no_dict_mk')\n",
    "len(attempt_no_dict)"
   ]
  },
  {
   "cell_type": "markdown",
   "metadata": {},
   "source": [
    "# [{u_1: v_1, u_2: v_2, ...}, ...]"
   ]
  },
  {
   "cell_type": "code",
   "execution_count": 8,
   "metadata": {},
   "outputs": [
    {
     "data": {
      "text/plain": [
       "393656"
      ]
     },
     "execution_count": 8,
     "metadata": {},
     "output_type": "execute_result"
    }
   ],
   "source": [
    "attempt_no_dict = load_obj('attempt_no_dict_m')\n",
    "len(attempt_no_dict)"
   ]
  },
  {
   "cell_type": "code",
   "execution_count": 5,
   "metadata": {},
   "outputs": [],
   "source": [
    "attempt_no = pd.read_csv('../data/prod/attempt_no.csv')"
   ]
  },
  {
   "cell_type": "code",
   "execution_count": 7,
   "metadata": {},
   "outputs": [
    {
     "data": {
      "text/plain": [
       "(0, 13522)"
      ]
     },
     "execution_count": 7,
     "metadata": {},
     "output_type": "execute_result"
    }
   ],
   "source": [
    "min(attempt_no.content_id.unique()), max(attempt_no.content_id.unique())"
   ]
  },
  {
   "cell_type": "code",
   "execution_count": 9,
   "metadata": {},
   "outputs": [],
   "source": [
    "attempt_no_list = [dict() for i in range(13_523)]\n",
    "\n",
    "for user_id, value in attempt_no_dict.items():\n",
    "    for content_id, list_ in value.items():\n",
    "        attempt_no_list[content_id][user_id] = list_"
   ]
  },
  {
   "cell_type": "code",
   "execution_count": 10,
   "metadata": {},
   "outputs": [],
   "source": [
    "save_obj(attempt_no_list, 'attempt_no_list')"
   ]
  },
  {
   "cell_type": "markdown",
   "metadata": {},
   "source": [
    "# Saving by mul"
   ]
  },
  {
   "cell_type": "code",
   "execution_count": 17,
   "metadata": {},
   "outputs": [
    {
     "data": {
      "text/plain": [
       "13523"
      ]
     },
     "execution_count": 17,
     "metadata": {},
     "output_type": "execute_result"
    }
   ],
   "source": [
    "attempt_no_list = load_obj('attempt_no_list')\n",
    "len(attempt_no_list)"
   ]
  },
  {
   "cell_type": "code",
   "execution_count": 18,
   "metadata": {},
   "outputs": [],
   "source": [
    "for content_id in range(len(attempt_no_list)):\n",
    "    for user_id in attempt_no_list[content_id]:\n",
    "        val = attempt_no_list[content_id][user_id]\n",
    "        attempt_no_list[content_id][user_id] = 1000 * val[1] + val[0]"
   ]
  },
  {
   "cell_type": "code",
   "execution_count": 19,
   "metadata": {},
   "outputs": [],
   "source": [
    "save_obj(attempt_no_list, 'attempt_no_list_m')"
   ]
  },
  {
   "cell_type": "code",
   "execution_count": 2,
   "metadata": {},
   "outputs": [
    {
     "data": {
      "text/plain": [
       "13523"
      ]
     },
     "execution_count": 2,
     "metadata": {},
     "output_type": "execute_result"
    }
   ],
   "source": [
    "attempt_no_list = load_obj('attempt_no_list_m')\n",
    "len(attempt_no_list)"
   ]
  },
  {
   "cell_type": "markdown",
   "metadata": {},
   "source": [
    "# Saving by mul + (key_1, key_2)"
   ]
  },
  {
   "cell_type": "code",
   "execution_count": 3,
   "metadata": {},
   "outputs": [],
   "source": [
    "attempt_no_dict_mkm = dict()\n",
    "\n",
    "for content_id in range(len(attempt_no_list)):\n",
    "    for user_id in attempt_no_list[content_id]:\n",
    "        attempt_no_dict_mkm[(user_id, content_id)] = attempt_no_list[content_id][user_id]"
   ]
  },
  {
   "cell_type": "code",
   "execution_count": 4,
   "metadata": {},
   "outputs": [],
   "source": [
    "save_obj(attempt_no_dict_mkm, 'attempt_no_dict_mkm')"
   ]
  },
  {
   "cell_type": "code",
   "execution_count": 2,
   "metadata": {},
   "outputs": [
    {
     "data": {
      "text/plain": [
       "86867031"
      ]
     },
     "execution_count": 2,
     "metadata": {},
     "output_type": "execute_result"
    }
   ],
   "source": [
    "attempt_no_dict_mkm = load_obj('attempt_no_dict_mkm')\n",
    "len(attempt_no_dict_mkm)"
   ]
  },
  {
   "cell_type": "markdown",
   "metadata": {},
   "source": [
    "# Saving by mul + user_id -> content_id"
   ]
  },
  {
   "cell_type": "code",
   "execution_count": 3,
   "metadata": {},
   "outputs": [],
   "source": [
    "attempt_no_dict_mm = dict()\n",
    "\n",
    "for key, value in attempt_no_dict_mkm.items():\n",
    "    user_id, content_id = key[0], key[1]\n",
    "    \n",
    "    try:\n",
    "        attempt_no_dict_mm[user_id][content_id] = value\n",
    "    except:\n",
    "        attempt_no_dict_mm[user_id] = dict()\n",
    "        attempt_no_dict_mm[user_id][content_id] = value"
   ]
  },
  {
   "cell_type": "code",
   "execution_count": 4,
   "metadata": {},
   "outputs": [],
   "source": [
    "save_obj(attempt_no_dict_mm, 'attempt_no_dict_mm')"
   ]
  },
  {
   "cell_type": "markdown",
   "metadata": {},
   "source": [
    "# Rev mm"
   ]
  },
  {
   "cell_type": "code",
   "execution_count": 2,
   "metadata": {},
   "outputs": [
    {
     "data": {
      "text/plain": [
       "393656"
      ]
     },
     "execution_count": 2,
     "metadata": {},
     "output_type": "execute_result"
    }
   ],
   "source": [
    "attempt_no_dict_mm = load_obj('attempt_no_dict_mm')\n",
    "len(attempt_no_dict_mm)"
   ]
  },
  {
   "cell_type": "code",
   "execution_count": 3,
   "metadata": {},
   "outputs": [],
   "source": [
    "attempt_no_dict_mm_rev = dict()\n",
    "for user_id, dict_ in attempt_no_dict_mm.items():\n",
    "    for content_id, value in dict_.items():\n",
    "        try:\n",
    "            attempt_no_dict_mm_rev[content_id][user_id] = value\n",
    "        except:\n",
    "            attempt_no_dict_mm_rev[content_id] = dict()\n",
    "            attempt_no_dict_mm_rev[content_id][user_id] = value"
   ]
  },
  {
   "cell_type": "code",
   "execution_count": 4,
   "metadata": {},
   "outputs": [],
   "source": [
    "save_obj(attempt_no_dict_mm_rev, 'attempt_no_dict_mm_rev')"
   ]
  },
  {
   "cell_type": "code",
   "execution_count": 2,
   "metadata": {},
   "outputs": [
    {
     "data": {
      "text/plain": [
       "13523"
      ]
     },
     "execution_count": 2,
     "metadata": {},
     "output_type": "execute_result"
    }
   ],
   "source": [
    "attempt_no_dict_mm_rev = load_obj('attempt_no_dict_mm_rev')\n",
    "len(attempt_no_dict_mm_rev)"
   ]
  }
 ],
 "metadata": {
  "kernelspec": {
   "display_name": "Python 3",
   "language": "python",
   "name": "python3"
  },
  "language_info": {
   "codemirror_mode": {
    "name": "ipython",
    "version": 3
   },
   "file_extension": ".py",
   "mimetype": "text/x-python",
   "name": "python",
   "nbconvert_exporter": "python",
   "pygments_lexer": "ipython3",
   "version": "3.8.5"
  }
 },
 "nbformat": 4,
 "nbformat_minor": 4
}
