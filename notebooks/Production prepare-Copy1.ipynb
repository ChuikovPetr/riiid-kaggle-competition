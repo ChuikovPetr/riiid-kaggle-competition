{
 "cells": [
  {
   "cell_type": "code",
   "execution_count": 16,
   "metadata": {},
   "outputs": [],
   "source": [
    "import pandas as pd\n",
    "from pathlib import Path\n",
    "from typing import List, Dict, Tuple\n",
    "import numpy as np\n",
    "pd.options.display.float_format = '{:.5f}'.format"
   ]
  },
  {
   "cell_type": "code",
   "execution_count": 21,
   "metadata": {},
   "outputs": [],
   "source": [
    "features = pd.read_csv('../data/all_features_ns_full_25/features.csv', nrows=1000000)"
   ]
  },
  {
   "cell_type": "code",
   "execution_count": 24,
   "metadata": {},
   "outputs": [
    {
     "data": {
      "text/plain": [
       "(1169, 37)"
      ]
     },
     "execution_count": 24,
     "metadata": {},
     "output_type": "execute_result"
    }
   ],
   "source": [
    "features[features.prior_question_elapsed_time == 0].shape"
   ]
  },
  {
   "cell_type": "markdown",
   "metadata": {},
   "source": [
    "# Fillna"
   ]
  },
  {
   "cell_type": "code",
   "execution_count": 9,
   "metadata": {
    "scrolled": true
   },
   "outputs": [],
   "source": [
    "features = pd.read_csv(\n",
    "    '../data/all_features_ns_full_25/features.csv',\n",
    "    usecols=[\n",
    "        36, # content_mean_answ\n",
    "        8, # user_he_mean_answ\n",
    "        4, # user_mean_answ\n",
    "        2, # user_ema_answ\n",
    "        26, # user_he_ema_answ\n",
    "        \n",
    "        1, # rel_chng_timestamp_1\n",
    "        22, # lect_user\n",
    "        3, # lect_user_part\n",
    "        33, # rel_lect_part\n",
    "        32, # user_he_ema_prior_question_elapsed_time\n",
    "        \n",
    "        25, # user_ema_prior_question_elapsed_time\n",
    "        14, # rel_user_he_ema_pqet\n",
    "        31, # user_ucount_part\n",
    "        34, # strike_part\n",
    "        18, # user_count_answered_correctly\n",
    "        \n",
    "        9, # rel_strike_part\n",
    "    ],\n",
    ")"
   ]
  },
  {
   "cell_type": "code",
   "execution_count": 10,
   "metadata": {},
   "outputs": [
    {
     "data": {
      "text/plain": [
       "(99271300, 16)"
      ]
     },
     "execution_count": 10,
     "metadata": {},
     "output_type": "execute_result"
    }
   ],
   "source": [
    "features.shape"
   ]
  },
  {
   "cell_type": "code",
   "execution_count": 11,
   "metadata": {},
   "outputs": [
    {
     "name": "stdout",
     "output_type": "stream",
     "text": [
      "0 rel_chng_timestamp_1\n",
      "1 user_ema_answered_correctly\n",
      "2 lect_user_part\n",
      "3 user_mean_answered_correctly\n",
      "4 user_he_mean_answered_correctly\n",
      "5 rel_strike_part\n",
      "6 rel_user_he_ema_pqet\n",
      "7 user_count_answered_correctly\n",
      "8 lect_user\n",
      "9 user_ema_prior_question_elapsed_time\n",
      "10 user_he_ema_answered_correctly\n",
      "11 user_ucount_part\n",
      "12 user_he_ema_prior_question_elapsed_time\n",
      "13 rel_lect_part\n",
      "14 strike_part\n",
      "15 content_mean_answered_correctly\n"
     ]
    }
   ],
   "source": [
    "result_fillna = dict()\n",
    "for ind, name in enumerate(features.columns):\n",
    "    print(ind, name)\n",
    "    result_fillna[name] = features[name].median()"
   ]
  },
  {
   "cell_type": "code",
   "execution_count": 12,
   "metadata": {},
   "outputs": [
    {
     "data": {
      "text/plain": [
       "{'rel_chng_timestamp_1': 1.1499720576477443e-05,\n",
       " 'user_ema_answered_correctly': 0.6680533652480591,\n",
       " 'lect_user_part': 1.0,\n",
       " 'user_mean_answered_correctly': 0.6647887323943662,\n",
       " 'user_he_mean_answered_correctly': 0.6768060836501901,\n",
       " 'rel_strike_part': 0.0009718172983479103,\n",
       " 'rel_user_he_ema_pqet': 0.9991174646076274,\n",
       " 'user_count_answered_correctly': 483.0,\n",
       " 'lect_user': 8.0,\n",
       " 'user_ema_prior_question_elapsed_time': 24222.826375241362,\n",
       " 'user_he_ema_answered_correctly': 0.6783666542192899,\n",
       " 'user_ucount_part': 7.0,\n",
       " 'user_he_ema_prior_question_elapsed_time': 23985.717212908792,\n",
       " 'rel_lect_part': 0.12121212121212124,\n",
       " 'strike_part': 1.0,\n",
       " 'content_mean_answered_correctly': 0.6760319861681435}"
      ]
     },
     "execution_count": 12,
     "metadata": {},
     "output_type": "execute_result"
    }
   ],
   "source": [
    "result_fillna"
   ]
  },
  {
   "cell_type": "code",
   "execution_count": 13,
   "metadata": {},
   "outputs": [],
   "source": [
    "names = [\n",
    "    ('content_mean_answ', 'content_mean_answered_correctly'),\n",
    "    ('user_ema_answ', 'user_ema_answered_correctly'),\n",
    "    ('user_mean_answ', 'user_mean_answered_correctly'),\n",
    "    ('user_he_mean_answ', 'user_he_mean_answered_correctly'),\n",
    "    ('user_count_answ', 'user_count_answered_correctly'),\n",
    "    ('user_ema_pqet', 'user_ema_prior_question_elapsed_time'),\n",
    "    ('user_he_ema_answ', 'user_he_ema_answered_correctly'),\n",
    "    ('user_he_ema_pqet', 'user_he_ema_prior_question_elapsed_time')\n",
    "]\n",
    "for n in names:\n",
    "    result_fillna[n[0]] = result_fillna[n[1]]\n",
    "    del result_fillna[n[1]]"
   ]
  },
  {
   "cell_type": "code",
   "execution_count": 14,
   "metadata": {
    "scrolled": true
   },
   "outputs": [
    {
     "data": {
      "text/plain": [
       "{'rel_chng_timestamp_1': 1.1499720576477443e-05,\n",
       " 'lect_user_part': 1.0,\n",
       " 'rel_strike_part': 0.0009718172983479103,\n",
       " 'rel_user_he_ema_pqet': 0.9991174646076274,\n",
       " 'lect_user': 8.0,\n",
       " 'user_ucount_part': 7.0,\n",
       " 'rel_lect_part': 0.12121212121212124,\n",
       " 'strike_part': 1.0,\n",
       " 'content_mean_answ': 0.6760319861681435,\n",
       " 'user_ema_answ': 0.6680533652480591,\n",
       " 'user_mean_answ': 0.6647887323943662,\n",
       " 'user_he_mean_answ': 0.6768060836501901,\n",
       " 'user_count_answ': 483.0,\n",
       " 'user_ema_pqet': 24222.826375241362,\n",
       " 'user_he_ema_answ': 0.6783666542192899,\n",
       " 'user_he_ema_pqet': 23985.717212908792}"
      ]
     },
     "execution_count": 14,
     "metadata": {},
     "output_type": "execute_result"
    }
   ],
   "source": [
    "del features\n",
    "result_fillna"
   ]
  },
  {
   "cell_type": "markdown",
   "metadata": {},
   "source": [
    "# Save"
   ]
  },
  {
   "cell_type": "code",
   "execution_count": 15,
   "metadata": {},
   "outputs": [],
   "source": [
    "import pickle\n",
    "def load_obj(name):\n",
    "    with open(\"../data/prod/\" + name + \".pkl\", \"rb\") as f:\n",
    "        return pickle.load(f)\n",
    "    \n",
    "def save_obj(obj, name):\n",
    "    with open(\"../data/prod/\" + name + \".pkl\", \"wb\") as f:\n",
    "        pickle.dump(obj, f, protocol = 2)\n",
    "save_obj(result_fillna, 'five_fillna')"
   ]
  }
 ],
 "metadata": {
  "kernelspec": {
   "display_name": "Python 3",
   "language": "python",
   "name": "python3"
  },
  "language_info": {
   "codemirror_mode": {
    "name": "ipython",
    "version": 3
   },
   "file_extension": ".py",
   "mimetype": "text/x-python",
   "name": "python",
   "nbconvert_exporter": "python",
   "pygments_lexer": "ipython3",
   "version": "3.8.5"
  }
 },
 "nbformat": 4,
 "nbformat_minor": 4
}
